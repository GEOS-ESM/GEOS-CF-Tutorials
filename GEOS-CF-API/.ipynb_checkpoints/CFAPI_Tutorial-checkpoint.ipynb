{
 "cells": [
  {
   "cell_type": "markdown",
   "id": "4004070f",
   "metadata": {},
   "source": [
    "# CFAPI Tutorial\n",
    "\n",
    "The CFAPI is a utility that allows users to request time series from the GEOS Composition Forecast (GEOS-CF) model. \n",
    "\n",
    "The following tutorial will show users how to interact with the API in a Python environment. Although it is a simple tutorial which only shows a limited scope of the CFAPI, this tutorial can easily be modified using examples from the CFAPI docs. The documentation examples explore options for accessing a variety of GEOS-CF model fields.\n",
    "\n",
    "The CFAPI docs can be found [here.](https://fluid.nccs.nasa.gov/cfapi/docs/)"
   ]
  },
  {
   "cell_type": "markdown",
   "id": "ebeb8df6",
   "metadata": {},
   "source": [
    "## Making a Simple Request to the Root URL\n",
    "\n",
    "Using the urllib and json packages, we can query the root URL of the CFAPI. The response shows us dictionaries of valid request parameters for the API including forecasts and replays of chemistry and meteorology, and historical estimates of three air quality parameters (NO2, O3, and PM2.5)."
   ]
  },
  {
   "cell_type": "code",
   "execution_count": null,
   "id": "6c2e7511",
   "metadata": {
    "scrolled": false
   },
   "outputs": [],
   "source": [
    "import json\n",
    "from urllib.request import urlopen"
   ]
  },
  {
   "cell_type": "code",
   "execution_count": null,
   "id": "1e8bee9b",
   "metadata": {
    "scrolled": false
   },
   "outputs": [],
   "source": [
    "url = 'https://fluid.nccs.nasa.gov/cfapi/'\n",
    "\n",
    "response = urlopen(url)\n",
    "\n",
    "data = json.loads(response.read())\n",
    "\n",
    "data"
   ]
  },
  {
   "cell_type": "markdown",
   "id": "61884a4a",
   "metadata": {},
   "source": [
    "## Retrieving Modeled Forecasts\n",
    "\n",
    "Now we will access the CFAPI and make two requests. We will request forecasts of surface level NO2, and surface level meteorological fields.\n",
    "\n",
    "To request a 5-day forecast we will need to provide the following URL parameters:\n",
    "- Collection\n",
    "- Dataset\n",
    "- Level\n",
    "- Product\n",
    "- Latitude and Longitude \n",
    "\n",
    "Example parameters will be shown in the following cells."
   ]
  },
  {
   "cell_type": "code",
   "execution_count": null,
   "id": "43e7cd06",
   "metadata": {
    "scrolled": false
   },
   "outputs": [],
   "source": [
    "# Requesting a forecast of surface level NO2 concentrations from the CFAPI\n",
    "\n",
    "# Set the URL parameters\n",
    "collection = 'fcast'\n",
    "dataset = 'chm'\n",
    "level = 'v1'\n",
    "product = 'no2'\n",
    "lat = '38.9'\n",
    "lon = '-77.4'\n",
    "\n",
    "# Create the request URL\n",
    "url = f'https://fluid.nccs.nasa.gov/cfapi/{collection}/{dataset}/{level}/{product}/{lat}x{lon}/'\n",
    "\n",
    "# Query the CFAPI\n",
    "response = urlopen(url)\n",
    "\n",
    "# Load the data as a dictionary \n",
    "data = json.loads(response.read())"
   ]
  },
  {
   "cell_type": "code",
   "execution_count": null,
   "id": "96326a45",
   "metadata": {
    "scrolled": false
   },
   "outputs": [],
   "source": [
    "# Print out the schema of this particular API response\n",
    "print(data['schema'])"
   ]
  },
  {
   "cell_type": "code",
   "execution_count": null,
   "id": "3ddf2eb7",
   "metadata": {
    "scrolled": false
   },
   "outputs": [],
   "source": [
    "# Print out the time array for this request\n",
    "print(data['time'])"
   ]
  },
  {
   "cell_type": "code",
   "execution_count": null,
   "id": "48a2e855",
   "metadata": {
    "scrolled": false
   },
   "outputs": [],
   "source": [
    "# Print out the concentration values of NO2 for this request\n",
    "print(data['values'])"
   ]
  },
  {
   "cell_type": "code",
   "execution_count": null,
   "id": "66a5cb07",
   "metadata": {
    "scrolled": false
   },
   "outputs": [],
   "source": [
    "# Requesting a forecast of meteorology fields from the CFAPI\n",
    "\n",
    "# Set the URL parameters\n",
    "collection = 'fcast'\n",
    "met_dataset='met'\n",
    "met_level = 'x1'\n",
    "met_product = 'MET'\n",
    "lat = '38.9'\n",
    "lon = '-77.4'\n",
    "\n",
    "# Create the request URL\n",
    "met_url = f'https://fluid.nccs.nasa.gov/cfapi/{collection}/{met_dataset}/{met_level}/{met_product}/{lat}x{lon}'\n",
    "\n",
    "# Query the CFAPI\n",
    "met_response = urlopen(met_url)\n",
    "\n",
    "# Load the data as a dictionary \n",
    "met_data = json.loads(met_response.read())"
   ]
  },
  {
   "cell_type": "code",
   "execution_count": null,
   "id": "0b2ef3d3",
   "metadata": {
    "scrolled": false
   },
   "outputs": [],
   "source": [
    "# Print out the schema of this particular API response\n",
    "print(met_data['schema'])"
   ]
  },
  {
   "cell_type": "code",
   "execution_count": null,
   "id": "9bda59bb",
   "metadata": {
    "scrolled": false
   },
   "outputs": [],
   "source": [
    "# Print out the time array for this request\n",
    "print(met_data['time'])"
   ]
  },
  {
   "cell_type": "code",
   "execution_count": null,
   "id": "5013ec61",
   "metadata": {
    "scrolled": true
   },
   "outputs": [],
   "source": [
    "# Print out the values of the various meteorology fields for this request\n",
    "for k, i in met_data['values'].items():\n",
    "    print(k, '\\n\\n****************\\n\\n', i, '\\n\\n****************\\n\\n')"
   ]
  },
  {
   "cell_type": "markdown",
   "id": "7769e26b",
   "metadata": {},
   "source": [
    "## Download and Plot the Data\n",
    "\n",
    "In this section we will create a Pandas dataframe for the model fields that we have queried from the API. We can then use that dataframe to easily plot the output and download it as an Excel file."
   ]
  },
  {
   "cell_type": "code",
   "execution_count": null,
   "id": "053cedba",
   "metadata": {
    "scrolled": false
   },
   "outputs": [],
   "source": [
    "# Import packages\n",
    "import numpy as np\n",
    "import pandas as pd"
   ]
  },
  {
   "cell_type": "code",
   "execution_count": null,
   "id": "bd841f7f",
   "metadata": {
    "scrolled": false
   },
   "outputs": [],
   "source": [
    "# Create a simple dataframe of NO2 concentrations\n",
    "chm_df = pd.DataFrame(data={'time': data['time'], 'NO2': data['values']['NO2']})\n",
    "# Convert the time column from strings to datetimes\n",
    "chm_df['time'] = pd.to_datetime(chm_df['time'])"
   ]
  },
  {
   "cell_type": "code",
   "execution_count": null,
   "id": "c1982f78",
   "metadata": {
    "scrolled": false
   },
   "outputs": [],
   "source": [
    "# Display the chem dataframe\n",
    "print(chm_df)"
   ]
  },
  {
   "cell_type": "code",
   "execution_count": null,
   "id": "787f52cb",
   "metadata": {
    "scrolled": false
   },
   "outputs": [],
   "source": [
    "# Create a data frame of meteorology fields\n",
    "met_dict = {}\n",
    "met_dict['time'] = met_data['time']\n",
    "met_dict.update(met_data['values'])\n",
    "met_df = pd.DataFrame(met_dict)\n",
    "# Convert the time column from strings to datetimes\n",
    "met_df['time'] = pd.to_datetime(met_df['time'])"
   ]
  },
  {
   "cell_type": "code",
   "execution_count": null,
   "id": "e75643dd",
   "metadata": {
    "scrolled": false
   },
   "outputs": [],
   "source": [
    "# Display the met dataframe\n",
    "print(met_df)"
   ]
  },
  {
   "cell_type": "code",
   "execution_count": null,
   "id": "1d1ffca7",
   "metadata": {
    "scrolled": false
   },
   "outputs": [],
   "source": [
    "# Merge the two dataframes into a single dataframe\n",
    "merged_df = chm_df.merge(met_df)"
   ]
  },
  {
   "cell_type": "code",
   "execution_count": null,
   "id": "727a57de",
   "metadata": {
    "scrolled": false
   },
   "outputs": [],
   "source": [
    "# Display the merged dataframe\n",
    "print(merged_df)"
   ]
  },
  {
   "cell_type": "code",
   "execution_count": null,
   "id": "5017b373",
   "metadata": {
    "scrolled": false
   },
   "outputs": [],
   "source": [
    "# Import matplotlib to generate a plot of our requested model fields\n",
    "import matplotlib.pyplot as plt\n",
    "%matplotlib inline"
   ]
  },
  {
   "cell_type": "code",
   "execution_count": null,
   "id": "2a28daa2",
   "metadata": {
    "scrolled": false
   },
   "outputs": [],
   "source": [
    "# Create subplots\n",
    "fig, (ax1, ax2) = plt.subplots(2, 1, figsize=(12, 8), layout='constrained')\n",
    "\n",
    "# Plot desired parameters\n",
    "merged_df.plot(x='time', y='NO2', ax=ax1, c='purple')\n",
    "merged_df.plot(x='time', y='T2M', ax=ax2, c='r')\n",
    "\n",
    "# Adjust the plot title and axes labels\n",
    "fig.suptitle('NO2 Concentrations and 2-meter Temperature from GEOS-CF', fontsize=16)\n",
    "\n",
    "ax1.set_ylabel('ppbv', fontsize=14)\n",
    "ax1.set_xlabel('Time (UTC)', fontsize=14)\n",
    "ax2.set_ylabel('Degrees Fahrenheit', fontsize=14)\n",
    "ax2.set_xlabel('Time (UTC)', fontsize=14)\n",
    "\n",
    "# Adjust the plot legend\n",
    "legend1 = ax1.legend(loc='upper center', shadow=True)\n",
    "legend2 = ax2.legend(loc='upper center', shadow=True)\n",
    "for legend in [legend1, legend2]:\n",
    "    frame = legend.get_frame()\n",
    "    frame.set_facecolor('0.90')\n",
    "\n",
    "# Display the plot\n",
    "plt.show()"
   ]
  },
  {
   "cell_type": "code",
   "execution_count": null,
   "id": "b41bf094",
   "metadata": {
    "scrolled": false
   },
   "outputs": [],
   "source": [
    "# Save the API ouput to an Excel file for later reference if desired\n",
    "merged_df.to_excel(f'./API_Output_{collection}_{dataset}{level}_{product}_{met_dataset}{met_level}_{met_product}_{lat}_{lon}.xlsx')"
   ]
  }
 ],
 "metadata": {
  "kernelspec": {
   "display_name": "Python 3 (ipykernel)",
   "language": "python",
   "name": "python3"
  },
  "language_info": {
   "codemirror_mode": {
    "name": "ipython",
    "version": 3
   },
   "file_extension": ".py",
   "mimetype": "text/x-python",
   "name": "python",
   "nbconvert_exporter": "python",
   "pygments_lexer": "ipython3",
   "version": "3.8.17"
  }
 },
 "nbformat": 4,
 "nbformat_minor": 5
}
